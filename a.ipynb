ss1=['1','2','3','4','5','6']
ss2= [ss1[ii] for ii in range(5)]
ss2
