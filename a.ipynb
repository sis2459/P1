{
 "cells": [
  {
   "cell_type": "code",
   "execution_count": null,
   "id": "95d07411",
   "metadata": {},
   "outputs": [],
   "source": [
    "ss1=['1','2','3','4','5','6']\n",
    "ss2= [ss1[ii] for ii in range(5)]\n",
    "ss2"
   ]
  }
 ],
 "metadata": {
  "kernelspec": {
   "display_name": "Python 3 (ipykernel)",
   "language": "python",
   "name": "python3"
  },
  "language_info": {
   "codemirror_mode": {
    "name": "ipython",
    "version": 3
   },
   "file_extension": ".py",
   "mimetype": "text/x-python",
   "name": "python",
   "nbconvert_exporter": "python",
   "pygments_lexer": "ipython3",
   "version": "3.9.7"
  }
 },
 "nbformat": 4,
 "nbformat_minor": 5
}
